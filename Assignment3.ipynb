{
 "cells": [
  {
   "cell_type": "code",
   "execution_count": 5,
   "metadata": {},
   "outputs": [],
   "source": [
    "#1.\tCreate a student dictionary, add first_name, \n",
    "# last_name, gender, age, country, and address as keys\n",
    "\n",
    "\n",
    "student={'first_name':\"Ayodele\",'last_name': 'Awokoya','gender':'female' ,'age': 30,\n",
    "'country': 'Nigeria','address':\"Ibadan\" }"
   ]
  },
  {
   "cell_type": "code",
   "execution_count": 21,
   "metadata": {},
   "outputs": [
    {
     "name": "stdout",
     "output_type": "stream",
     "text": [
      "Length of this dictionary is: 6\n",
      "Keys in this diictionary are: dict_keys(['first_name', 'last_name', 'gender', 'age', 'country', 'address'])\n",
      "This dictionary is now converted to:  <class 'list'>\n",
      "This dictionary is now converted to:  <class 'tuple'>\n",
      "This dictionary is now converted to:  [{'first_name': 'Ayodele', 'last_name': 'Awokoya', 'gender': 'female', 'age': 30, 'country': 'Nigeria', 'address': 'Ibadan'}]\n",
      "This dictionary is now converted to a tuple  {'first_name': 'Ayodele', 'last_name': 'Awokoya', 'gender': 'female', 'age': 30, 'country': 'Nigeria', 'address': 'Ibadan'}\n"
     ]
    }
   ],
   "source": [
    "# Find the following; length, get the keys, change the dictionary to a list and tuple\n",
    "\n",
    "print('Length of this dictionary is: '+str(len(student)))\n",
    "print('Keys in this diictionary are: '+ str(student.keys()))\n",
    "print('This dictionary is now converted to: ',type(list(student)))\n",
    "print('This dictionary is now converted to: ', type(tuple(student)))\n",
    "print('This dictionary is now converted to: ', [student])\n",
    "print('This dictionary is now converted to a tuple ',(student))\n",
    "\n",
    "\n",
    "# I noticed if dictionary is converted to tuple it only considers the key and the values \n",
    "# are discarded (why?)\n"
   ]
  },
  {
   "cell_type": "code",
   "execution_count": 69,
   "metadata": {},
   "outputs": [
    {
     "name": "stdout",
     "output_type": "stream",
     "text": [
      "( first_name , Ayodele )\n",
      "( last_name , Awokoya )\n",
      "( gender , female )\n",
      "( age , 30 )\n",
      "( country , Nigeria )\n",
      "( address , Ibadan )\n"
     ]
    }
   ],
   "source": [
    "student={'first_name':\"Ayodele\",'last_name': 'Awokoya','gender':'female' ,'age': 30,\n",
    "'country': 'Nigeria','address':\"Ibadan\" }\n",
    "for i, v in student.items():\n",
    "    print('(',i, ',', v,')')"
   ]
  },
  {
   "cell_type": "code",
   "execution_count": 71,
   "metadata": {},
   "outputs": [
    {
     "name": "stdout",
     "output_type": "stream",
     "text": [
      "66 is equal to 66\n"
     ]
    }
   ],
   "source": [
    "# 2.\tGet two numbers from the user using input prompt. If a is greater than b, print “a is greater than b”, if a is less than b, \n",
    "# print “a is smaller than b”, else a is equals to b.\n",
    "\n",
    "a = input('Enter a number: ')\n",
    "b= input ('Enter another number: ')\n",
    "\n",
    "if a > b:\n",
    "    print( str(a) + ' is greater than '+ str(b))\n",
    "elif a < b:\n",
    "    print(str(a) + ' is less than '+ str(b))\n",
    "else:\n",
    "    print(str(a + ' is equal to '+str(b)))"
   ]
  },
  {
   "cell_type": "code",
   "execution_count": 72,
   "metadata": {},
   "outputs": [
    {
     "name": "stdout",
     "output_type": "stream",
     "text": [
      "You are old enough to drive\n"
     ]
    }
   ],
   "source": [
    "# 3.\tGet user input using input(“Enter yout age:”); if user is 18 or older, print “you’re old enough to drive. \n",
    "# If below 18 print return the feedback,‘you are to wait for x years’\n",
    "\n",
    "\n",
    "x= 18\n",
    "age = int(input('Enter your age: '))\n",
    "if age >= 18:\n",
    "    print('You are old enough to drive')\n",
    "elif age<18:\n",
    "    print('You are to wait for '+str(x-age)+' years')"
   ]
  },
  {
   "cell_type": "code",
   "execution_count": 67,
   "metadata": {},
   "outputs": [
    {
     "name": "stdout",
     "output_type": "stream",
     "text": [
      "F\n"
     ]
    }
   ],
   "source": [
    "# \tWrite a code to give students grade based on their scores.\n",
    "\n",
    "Grade = int(input('Enter the student score: '))\n",
    "\n",
    "if Grade >=70:\n",
    "    print('A')\n",
    "elif (Grade < 70) & (Grade >= 60):\n",
    "    print('B')\n",
    "elif (Grade < 60) & (Grade >= 50):\n",
    "    print('C')\n",
    "elif (Grade < 50) & (Grade >= 40):\n",
    "    print('D')   \n",
    "elif (Grade < 40) & (Grade >= 30):\n",
    "    print('E')\n",
    "else:\n",
    "    print(\"F\")"
   ]
  },
  {
   "cell_type": "code",
   "execution_count": 62,
   "metadata": {},
   "outputs": [
    {
     "name": "stdout",
     "output_type": "stream",
     "text": [
      "0\n",
      "1\n",
      "2\n",
      "3\n",
      "4\n",
      "5\n",
      "6\n",
      "7\n",
      "8\n",
      "9\n"
     ]
    }
   ],
   "source": [
    "#  Iterate 0 to 10 using for loop, do the same using a while loop.\n",
    "\n",
    "for i in range(10):\n",
    "    print(i)"
   ]
  },
  {
   "cell_type": "code",
   "execution_count": 45,
   "metadata": {},
   "outputs": [
    {
     "name": "stdout",
     "output_type": "stream",
     "text": [
      "0\n",
      "1\n",
      "2\n",
      "3\n",
      "4\n",
      "5\n",
      "6\n",
      "7\n",
      "8\n",
      "9\n"
     ]
    }
   ],
   "source": [
    "x= 0\n",
    "\n",
    "while (x < 10):\n",
    "    print(x)\n",
    "    x += 1"
   ]
  },
  {
   "cell_type": "code",
   "execution_count": 46,
   "metadata": {},
   "outputs": [
    {
     "name": "stdout",
     "output_type": "stream",
     "text": [
      "python\n",
      "numpy\n",
      "pandas\n",
      "flask\n"
     ]
    }
   ],
   "source": [
    "# Iterate through the list [‘python’, ‘numpy’, ‘pandas’, ‘flask’] using a for loop and \n",
    "# print out the items.\\\n",
    "\n",
    "progs = ['python', 'numpy', 'pandas', 'flask']\n",
    "\n",
    "for prog in progs:\n",
    "    print(prog)"
   ]
  },
  {
   "cell_type": "code",
   "execution_count": 47,
   "metadata": {},
   "outputs": [
    {
     "name": "stdout",
     "output_type": "stream",
     "text": [
      "0\n",
      "2\n",
      "4\n",
      "6\n",
      "8\n",
      "10\n",
      "12\n",
      "14\n",
      "16\n",
      "18\n",
      "20\n",
      "22\n",
      "24\n",
      "26\n",
      "28\n",
      "30\n",
      "32\n",
      "34\n",
      "36\n",
      "38\n",
      "40\n",
      "42\n",
      "44\n",
      "46\n",
      "48\n",
      "50\n",
      "52\n",
      "54\n",
      "56\n",
      "58\n",
      "60\n",
      "62\n",
      "64\n",
      "66\n",
      "68\n",
      "70\n",
      "72\n",
      "74\n",
      "76\n",
      "78\n",
      "80\n",
      "82\n",
      "84\n",
      "86\n",
      "88\n",
      "90\n",
      "92\n",
      "94\n",
      "96\n",
      "98\n",
      "100\n"
     ]
    }
   ],
   "source": [
    "#  Use for loop to iterate from 0 to 100 and print only even numbers.\n",
    "\n",
    "for numbers in range(101):\n",
    "    if numbers % 2 == 0:\n",
    "        print(numbers)"
   ]
  },
  {
   "cell_type": "code",
   "execution_count": null,
   "metadata": {},
   "outputs": [],
   "source": []
  }
 ],
 "metadata": {
  "kernelspec": {
   "display_name": "Python 3.10.2 64-bit",
   "language": "python",
   "name": "python3"
  },
  "language_info": {
   "codemirror_mode": {
    "name": "ipython",
    "version": 3
   },
   "file_extension": ".py",
   "mimetype": "text/x-python",
   "name": "python",
   "nbconvert_exporter": "python",
   "pygments_lexer": "ipython3",
   "version": "3.10.2"
  },
  "orig_nbformat": 4,
  "vscode": {
   "interpreter": {
    "hash": "369f2c481f4da34e4445cda3fffd2e751bd1c4d706f27375911949ba6bb62e1c"
   }
  }
 },
 "nbformat": 4,
 "nbformat_minor": 2
}
