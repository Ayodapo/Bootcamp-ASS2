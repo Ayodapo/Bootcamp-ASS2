{
 "cells": [
  {
   "cell_type": "markdown",
   "metadata": {},
   "source": [
    "# DICTIONARIES"
   ]
  },
  {
   "cell_type": "code",
   "execution_count": 43,
   "metadata": {},
   "outputs": [
    {
     "data": {
      "text/plain": [
       "{'Name': 'Ayodele', 'Age': 36, 'Address': 'Ibadan'}"
      ]
     },
     "execution_count": 43,
     "metadata": {},
     "output_type": "execute_result"
    }
   ],
   "source": [
    "# Empty dictionary\n",
    "dict = {}\n",
    "#Dictionaries are key, value pair. For example:\n",
    "dict={'Name': 'Ayodele','Age': 36,'Address': 'Ibadan'}\n",
    "dict"
   ]
  },
  {
   "cell_type": "code",
   "execution_count": 14,
   "metadata": {},
   "outputs": [
    {
     "name": "stdout",
     "output_type": "stream",
     "text": [
      "4\n",
      "48\n",
      "Ibadan\n"
     ]
    }
   ],
   "source": [
    "#get the length of a dictionary\n",
    "print(len(dict))\n",
    "\n",
    "#accessing values in a dictionary using keys and .get()\n",
    "print(dict['Age']) \n",
    "print(dict.get('Address'))"
   ]
  },
  {
   "cell_type": "code",
   "execution_count": 47,
   "metadata": {},
   "outputs": [
    {
     "data": {
      "text/plain": [
       "{'Age': 36, 'Address': 'Germany', 'highest_qualification': 'B.Sc'}"
      ]
     },
     "execution_count": 47,
     "metadata": {},
     "output_type": "execute_result"
    }
   ],
   "source": [
    "#adding items to dictionary\n",
    "\n",
    "dict['highest_qualification']  = 'OND'\n",
    "\n",
    "\n",
    "# modify item in a dictionary\n",
    "dict ['highest_qualification'] = 'B.Sc' \n",
    "#delete item from dictionary\n",
    "#dict.pop('Name')\n",
    "\n",
    "\n",
    "#update item in a dictionary\n",
    "dict.update({'Address':'United_States'})\n",
    "dict['Address'] = 'Germany'\n",
    "dict"
   ]
  },
  {
   "cell_type": "code",
   "execution_count": 25,
   "metadata": {},
   "outputs": [
    {
     "data": {
      "text/plain": [
       "dict_keys(['Name', 'Age', 'Address', 'highest_qualification'])"
      ]
     },
     "execution_count": 25,
     "metadata": {},
     "output_type": "execute_result"
    }
   ],
   "source": [
    "#checking keys\n",
    "dict.keys()"
   ]
  },
  {
   "cell_type": "markdown",
   "metadata": {},
   "source": [
    "# CONDITIONALS"
   ]
  },
  {
   "cell_type": "code",
   "execution_count": 28,
   "metadata": {},
   "outputs": [
    {
     "name": "stdout",
     "output_type": "stream",
     "text": [
      "7 is not a multiple of 51\n"
     ]
    }
   ],
   "source": [
    "# if statements are used to check the validity of a condition, it returns\n",
    "# True if the condition is true and False if otherwise\n",
    "\n",
    "# if (condition is true, do):\n",
    "#     statement\n",
    "x = 51\n",
    "y = 7\n",
    "\n",
    "if (x % y==0):\n",
    "    print(str(y) + ' is a multiple of '+ str(x) )\n",
    "else:\n",
    "    print(str(y) + ' is not a multiple of '+ str(x) )   \n"
   ]
  },
  {
   "cell_type": "code",
   "execution_count": 34,
   "metadata": {},
   "outputs": [
    {
     "name": "stdout",
     "output_type": "stream",
     "text": [
      "Take care of your eyes for dust\n"
     ]
    }
   ],
   "source": [
    "# elif statement\n",
    "is_raining = False\n",
    "is_cloudy = False\n",
    "is_sunny = False\n",
    "is_windy = True\n",
    "\n",
    "if (is_raining):\n",
    "    print(\"It's raining, take your umbrella\")\n",
    "elif (is_cloudy):\n",
    "    print(\"Don't stay long!, it might rain\")\n",
    "elif (is_sunny):\n",
    "    print(\"You should dry your clothes today\")\n",
    "else: \n",
    "    print('Take care of your eyes for dust')"
   ]
  },
  {
   "cell_type": "code",
   "execution_count": 38,
   "metadata": {},
   "outputs": [
    {
     "name": "stdout",
     "output_type": "stream",
     "text": [
      "I am happy\n"
     ]
    }
   ],
   "source": [
    "#Nested if condition\n",
    "\n",
    "is_raining = False\n",
    "is_cloudy = False\n",
    "is_sunny = True\n",
    "is_windy = False\n",
    "is_cold = True\n",
    "\n",
    "if (is_raining):\n",
    "    if(is_sunny):\n",
    "        print(\"Possibly the rain might not last\")\n",
    "    else:\n",
    "        print(\"It might rain cat and dog\")\n",
    "elif (is_sunny):\n",
    "    if (is_windy):\n",
    "        if (is_cloudy):\n",
    "            print('Stop the children from playing outside')\n",
    "        else: \n",
    "            print('Go home straight')\n",
    "    elif (is_cold):\n",
    "        print(\"I am happy\")\n",
    "       \n"
   ]
  },
  {
   "cell_type": "markdown",
   "metadata": {},
   "source": [
    "Question\n",
    "\n",
    "a = 230\n",
    "b = 230\n",
    "\n",
    "print(\"A\") if a > b else print(\"=\") if a == b else print(\"B\")\n",
    "\n",
    "#could be written as\n",
    "\n",
    "if (a>b):\n",
    "    print('A')\n",
    "if (a == b):\n",
    "    print('B)\n",
    "\n"
   ]
  },
  {
   "cell_type": "code",
   "execution_count": 72,
   "metadata": {},
   "outputs": [
    {
     "name": "stdout",
     "output_type": "stream",
     "text": [
      "Welcome Bright, you are 13 years old hence not eligible to vote\n"
     ]
    }
   ],
   "source": [
    "#using input() to get values from user\n",
    "\n",
    "Name =input(\"Enter your name: \")\n",
    "Age =int(input(\"How old are you? \"))\n",
    "if (Age < 18):\n",
    "    print('Welcome {}, you are {} years old, hence not eligible to vote'.format(Name,Age))\n",
    "else:\n",
    "    print('Welcome {}, you are {} years old and eligible to vote'.format(Name,Age))"
   ]
  },
  {
   "cell_type": "markdown",
   "metadata": {},
   "source": [
    "# LOOPS\n"
   ]
  },
  {
   "cell_type": "code",
   "execution_count": 79,
   "metadata": {},
   "outputs": [
    {
     "name": "stdout",
     "output_type": "stream",
     "text": [
      "This is the 0th time\n",
      "This is the 1th time\n",
      "This is the 2th time\n",
      "This is the 3th time\n"
     ]
    }
   ],
   "source": [
    "#while loops\n",
    "i = 0\n",
    "while (i<5):\n",
    "    print('This is the {}th time'.format(i))\n",
    "    if i ==3:\n",
    "        break\n",
    "    i +=1"
   ]
  },
  {
   "cell_type": "code",
   "execution_count": 109,
   "metadata": {},
   "outputs": [
    {
     "name": "stdout",
     "output_type": "stream",
     "text": [
      "This is the 0th time\n",
      "This is the 1th time\n",
      "This is the 2th time\n",
      "This is the 4th time\n",
      "finished\n"
     ]
    }
   ],
   "source": [
    "#break and continue\n",
    "i = 0\n",
    "while (i<5):\n",
    "    \n",
    "    if i == 3:\n",
    "      i +=1\n",
    "      continue\n",
    "    print('This is the {}th time'.format(i))\n",
    "    i +=1\n",
    "print('finished')    \n",
    "\n",
    "    \n",
    "     "
   ]
  },
  {
   "cell_type": "code",
   "execution_count": 170,
   "metadata": {},
   "outputs": [
    {
     "name": "stdout",
     "output_type": "stream",
     "text": [
      "I love g fruits\n",
      "I love k fruits\n",
      "I love l fruits\n",
      "I love o fruits\n",
      "I love y fruits\n",
      "I love l fruits\n",
      "I love e fruits\n"
     ]
    }
   ],
   "source": [
    "fruits = [\"g\",'k','l','o','y','p','l','e']\n",
    "i  = 0\n",
    "while (i < len(fruits)):\n",
    "    if i ==5:\n",
    "        i +=1\n",
    "        continue\n",
    "    print('I love '+ fruits[i]+ ' fruits')\n",
    "    i +=1"
   ]
  },
  {
   "cell_type": "code",
   "execution_count": 118,
   "metadata": {},
   "outputs": [
    {
     "name": "stdout",
     "output_type": "stream",
     "text": [
      "g\n",
      "k\n",
      "l\n",
      "o\n",
      "y\n",
      "p\n",
      "l\n",
      "e\n"
     ]
    }
   ],
   "source": [
    "#for loops\n",
    "fruits = [\"g\",'k','l','o','y','p','l','e']\n",
    "for fruit in fruits:\n",
    "    print(fruit)"
   ]
  },
  {
   "cell_type": "code",
   "execution_count": 119,
   "metadata": {},
   "outputs": [
    {
     "name": "stdout",
     "output_type": "stream",
     "text": [
      "0\n",
      "1\n",
      "2\n",
      "3\n",
      "4\n",
      "5\n",
      "6\n",
      "7\n",
      "8\n",
      "9\n"
     ]
    }
   ],
   "source": [
    "#using range to determine the values to loop\n",
    "for i in range(10):\n",
    "    print(i)"
   ]
  },
  {
   "cell_type": "code",
   "execution_count": 120,
   "metadata": {},
   "outputs": [
    {
     "name": "stdout",
     "output_type": "stream",
     "text": [
      "1 1\n",
      "2 1\n",
      "2 2\n",
      "3 1\n",
      "3 2\n",
      "3 3\n",
      "4 1\n",
      "4 2\n",
      "4 3\n",
      "4 4\n"
     ]
    }
   ],
   "source": [
    "# nested for loops\n",
    "for i in range(5):\n",
    "    for j in range(1,i+1):\n",
    "        print(i,j)"
   ]
  },
  {
   "cell_type": "code",
   "execution_count": 161,
   "metadata": {},
   "outputs": [
    {
     "name": "stdout",
     "output_type": "stream",
     "text": [
      "You did not exercise today\n",
      "You did not exercise today\n",
      "You did not exercise today\n",
      "You did not exercise today\n",
      "You did not exercise today\n",
      "You have missed 5 exercises this week\n"
     ]
    }
   ],
   "source": [
    "#for else\n",
    "for i in range(5):\n",
    "    print ('You did not exercise today')\n",
    "else: \n",
    "    print('You have missed ' +str(i+1)+ ' exercises this week')"
   ]
  },
  {
   "cell_type": "code",
   "execution_count": 168,
   "metadata": {},
   "outputs": [
    {
     "name": "stdout",
     "output_type": "stream",
     "text": [
      "Provision\n",
      "Toileries\n",
      "Foodstuffs\n",
      "Vegetables\n",
      "Candies\n"
     ]
    }
   ],
   "source": [
    "#iterating through a list\n",
    "shopping_list = ['Provision','Toiletries','Foodstuffs','Fruits','Vegetables','Candies']\n",
    "for item in range(len(shopping_list)):\n",
    "     if len(shopping_list[item]) == 6:\n",
    "        continue\n",
    "     else:\n",
    "        print(shopping_list[item])      "
   ]
  },
  {
   "cell_type": "markdown",
   "metadata": {},
   "source": [
    "## QUESTIONS"
   ]
  },
  {
   "cell_type": "code",
   "execution_count": null,
   "metadata": {},
   "outputs": [],
   "source": []
  }
 ],
 "metadata": {
  "kernelspec": {
   "display_name": "Python 3.10.2 64-bit",
   "language": "python",
   "name": "python3"
  },
  "language_info": {
   "codemirror_mode": {
    "name": "ipython",
    "version": 3
   },
   "file_extension": ".py",
   "mimetype": "text/x-python",
   "name": "python",
   "nbconvert_exporter": "python",
   "pygments_lexer": "ipython3",
   "version": "3.10.2"
  },
  "orig_nbformat": 4,
  "vscode": {
   "interpreter": {
    "hash": "369f2c481f4da34e4445cda3fffd2e751bd1c4d706f27375911949ba6bb62e1c"
   }
  }
 },
 "nbformat": 4,
 "nbformat_minor": 2
}
